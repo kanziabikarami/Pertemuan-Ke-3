{
 "cells": [
  {
   "cell_type": "code",
   "execution_count": 9,
   "id": "2b564035-c0da-4d5e-ade1-c5ebc1432537",
   "metadata": {},
   "outputs": [],
   "source": [
    "def bandingAngka(a, b, c):\n",
    "    print(\"a:\",a,\"b:\",b,\"c:\",c)\n",
    "    \n",
    "    if a < b:\n",
    "        print (\"a < b\")\n",
    "    \n",
    "    if b < c:\n",
    "        print (\"a < b < c\")\n",
    "        \n",
    "    if a < c:\n",
    "        print(\"a < b dan a < c\")\n",
    "        \n",
    "        print (\"ok\")\n",
    "    else: \n",
    "        print (\"a lebih besar dari b\")\n",
    "        \n",
    "    print (\"diluar if a < b\")"
   ]
  },
  {
   "cell_type": "code",
   "execution_count": 10,
   "id": "6ba7f3d6-7074-4b4f-becf-6153137fdf5a",
   "metadata": {},
   "outputs": [
    {
     "name": "stdout",
     "output_type": "stream",
     "text": [
      "a: 50 b: 10 c: 6\n",
      "a lebih besar dari b\n",
      "diluar if a < b\n"
     ]
    }
   ],
   "source": [
    "bandingAngka(50, 10, 6)"
   ]
  },
  {
   "cell_type": "code",
   "execution_count": 11,
   "id": "382561bc-deba-40ee-bd18-b2bd81f83645",
   "metadata": {},
   "outputs": [
    {
     "name": "stdout",
     "output_type": "stream",
     "text": [
      "a: 1 b: 2 c: 3\n",
      "a < b\n",
      "a < b < c\n",
      "a < b dan a < c\n",
      "ok\n",
      "diluar if a < b\n"
     ]
    }
   ],
   "source": [
    "bandingAngka(1,2,3)"
   ]
  },
  {
   "cell_type": "code",
   "execution_count": 13,
   "id": "d6b7fe42-f618-4ed3-88df-17f33efd56ba",
   "metadata": {},
   "outputs": [
    {
     "name": "stdout",
     "output_type": "stream",
     "text": [
      "halo Andhika\n"
     ]
    }
   ],
   "source": [
    "namaorang = \"Andhika\"\n",
    "\n",
    "print (\"halo \" + namaorang)"
   ]
  },
  {
   "cell_type": "code",
   "execution_count": 29,
   "id": "391df40f-612f-4d49-af1b-3a224ad4b97d",
   "metadata": {},
   "outputs": [
    {
     "name": "stdout",
     "output_type": "stream",
     "text": [
      "***special***\n",
      "halo John\n"
     ]
    }
   ],
   "source": [
    "def sapa(namaorang):\n",
    "    special = \"John\"\n",
    "    if (namaorang == special):\n",
    "        print(\"***special***\")\n",
    "    print (\"halo \" + namaorang)\n",
    "    return \"hore\"\n",
    "    print(\"setelah return\") #semua code setelah return tidak dijalankan\n",
    "    \n",
    "hasil1 = sapa(\"John\")"
   ]
  },
  {
   "cell_type": "code",
   "execution_count": 26,
   "id": "5ffe5768-df8d-42b6-a7ff-2c77f335aa5d",
   "metadata": {},
   "outputs": [
    {
     "name": "stdout",
     "output_type": "stream",
     "text": [
      "hore\n"
     ]
    }
   ],
   "source": [
    "print(hasil1)"
   ]
  },
  {
   "cell_type": "code",
   "execution_count": 36,
   "id": "5e393306-6864-4b1d-b9cc-eb39db75f525",
   "metadata": {},
   "outputs": [
    {
     "name": "stdout",
     "output_type": "stream",
     "text": [
      "['nangka', 'belimbing', 'manggis', 'duku']\n",
      "['nangka', 'belimbing', 'manggis', 'duku', 'durian']\n"
     ]
    }
   ],
   "source": [
    "list_buah = [\"nangka\", \"belimbing\", \"manggis\", \"duku\"]\n",
    "\n",
    "def nambahBuah(listbuah):\n",
    "    listbuah.append(\"durian\")\n",
    "    \n",
    "print(list_buah)\n",
    "nambahBuah(list_buah)\n",
    "print(list_buah) #buahnya jadi ada 5, ini namanya pass by reference"
   ]
  },
  {
   "cell_type": "code",
   "execution_count": 37,
   "id": "adf8afee-b88b-4c55-b415-ed9c653cfcb9",
   "metadata": {},
   "outputs": [
    {
     "name": "stdout",
     "output_type": "stream",
     "text": [
      "['nangka', 'belimbing', 'manggis', 'duku', 'pisang']\n"
     ]
    }
   ],
   "source": [
    "list_buah = [\"nangka\", \"belimbing\", \"manggis\", \"duku\"]\n",
    "\n",
    "a = list_buah #seperti menulis a = list_buah = [\"nangka\", \"belimbing\", \"manggis\", \"duku\"]\n",
    "a.append(\"pisang\")\n",
    "\n",
    "print (list_buah)"
   ]
  },
  {
   "cell_type": "code",
   "execution_count": 40,
   "id": "4b3252d8-59bc-4aa6-bc7a-deb04bef93fd",
   "metadata": {},
   "outputs": [
    {
     "name": "stdout",
     "output_type": "stream",
     "text": [
      "pepaya\n"
     ]
    }
   ],
   "source": [
    "buah1 = \"pepaya\"\n",
    "\n",
    "buah2 = \"buah1\" #seperti menulis buah 2 = \"pepaya\", tidak mengganggu atau mereferensikan variable buah1\n",
    "buah2 += \"manis\"\n",
    "\n",
    "print (buah) #pass by value"
   ]
  },
  {
   "cell_type": "code",
   "execution_count": 44,
   "id": "04a1ce0a-3724-4fd5-8430-18d4e283ee6f",
   "metadata": {},
   "outputs": [
    {
     "name": "stdout",
     "output_type": "stream",
     "text": [
      "list lama ['azka', 'abi', 'hesti']\n",
      "baru ['azka', 'abi', 'hesti', 'idaz']\n"
     ]
    }
   ],
   "source": [
    "list1 = [\"azka\", \"abi\", \"hesti\"]\n",
    "\n",
    "def halo(a):\n",
    "    #bikin copy list baru dulu\n",
    "    list_baru = []\n",
    "    #untuk setiap barang yang ada di list lama (yang dari parameter)\n",
    "    for i in a:\n",
    "        list_baru.append(i) #kita masukin ke list baru\n",
    "        \n",
    "    list_baru.append(\"idaz\") #baru yang kita edit itu yang list baru\n",
    "    return list_baru #lalu di return ke list baru\n",
    "\n",
    "baru = halo(list1) #membuat sebuah list baru yang sudah diedit\n",
    "\n",
    "print(\"list lama\", list1)\n",
    "print(\"baru\", baru)"
   ]
  },
  {
   "cell_type": "code",
   "execution_count": 46,
   "id": "1514d60c-61ef-4e88-ac16-e92aed5a23a7",
   "metadata": {},
   "outputs": [
    {
     "data": {
      "text/plain": [
       "['azka', 'abi', 'hesti', 'idaz']"
      ]
     },
     "execution_count": 46,
     "metadata": {},
     "output_type": "execute_result"
    }
   ],
   "source": [
    "halo(list1)\n",
    "halo(list1)\n",
    "halo(list1)"
   ]
  },
  {
   "cell_type": "code",
   "execution_count": 47,
   "id": "13b27bed-33a7-41be-8cdf-ac1125026679",
   "metadata": {},
   "outputs": [
    {
     "name": "stdout",
     "output_type": "stream",
     "text": [
      "['azka', 'abi', 'hesti', 'kevin']\n"
     ]
    }
   ],
   "source": [
    "list2 = list1.copy()\n",
    "\n",
    "list2.append(\"kevin\")\n",
    "print(list2)"
   ]
  },
  {
   "cell_type": "code",
   "execution_count": 57,
   "id": "a2f640a8-9dae-4b1f-8f43-ec5950a5b7c4",
   "metadata": {},
   "outputs": [
    {
     "name": "stdout",
     "output_type": "stream",
     "text": [
      "a: 3 b: 12 c: 1\n"
     ]
    }
   ],
   "source": [
    "def printme(a,b,c=10): #c adalah default argument, punya default value\n",
    "    print(\"a:\",a, \"b:\",b, \"c:\",c)\n",
    "    \n",
    "printme(3,12,1)"
   ]
  },
  {
   "cell_type": "code",
   "execution_count": 60,
   "id": "b18d062e-97ce-4dc0-94bc-baeb18701e22",
   "metadata": {},
   "outputs": [
    {
     "name": "stdout",
     "output_type": "stream",
     "text": [
      "a: 15 b: 3 c: 10\n"
     ]
    }
   ],
   "source": [
    "printme (a=15, b=3) #keyword argument"
   ]
  },
  {
   "cell_type": "code",
   "execution_count": 59,
   "id": "9b050f51-6529-45dd-8436-25f0415aa75a",
   "metadata": {},
   "outputs": [
    {
     "name": "stdout",
     "output_type": "stream",
     "text": [
      "a: 5 b: 25 c: 10\n"
     ]
    }
   ],
   "source": [
    "printme(5,25) #c tetap 10 karena default value nya 10"
   ]
  },
  {
   "cell_type": "code",
   "execution_count": 62,
   "id": "1dbe940a-c99a-4fd3-9cc5-e106d0174c42",
   "metadata": {},
   "outputs": [
    {
     "name": "stdout",
     "output_type": "stream",
     "text": [
      "arg1: 1\n",
      "vartuple: (2, 3, 4, 5, 6)\n"
     ]
    }
   ],
   "source": [
    "def printpanjang(arg1, *vartuple):\n",
    "    print(\"arg1:\", arg1)\n",
    "    print(\"vartuple:\", vartuple)\n",
    "\n",
    "printpanjang(1,2,3,4,5,6)"
   ]
  },
  {
   "cell_type": "code",
   "execution_count": 67,
   "id": "819980e6-e594-4035-b582-4d91719581f8",
   "metadata": {},
   "outputs": [
    {
     "name": "stdout",
     "output_type": "stream",
     "text": [
      "genap 10\n",
      "genap 20\n",
      "genap 30\n",
      "ganjil 15\n"
     ]
    }
   ],
   "source": [
    "def printpanjang(*vartuple):\n",
    "    for num in vartuple:\n",
    "        if (num % 2 == 0):\n",
    "            print(\"genap\", num)\n",
    "        else:\n",
    "            print(\"ganjil\", num)\n",
    "\n",
    "printpanjang(10,20,30,15)"
   ]
  },
  {
   "cell_type": "code",
   "execution_count": 71,
   "id": "7efb1ecd-8172-4500-80d0-cb705b000390",
   "metadata": {},
   "outputs": [
    {
     "name": "stdout",
     "output_type": "stream",
     "text": [
      "15\n"
     ]
    }
   ],
   "source": [
    "#function anonymus, bikin function tanpa pake def\n",
    "# bikin function yang 1 baris pakai lamda dan selalu return\n",
    "\n",
    "#def tambah (a,b):\n",
    "#    return a+b\n",
    "\n",
    "tambah = lambda a,b : a+b;\n",
    "print(tambah(5,10))"
   ]
  },
  {
   "cell_type": "code",
   "execution_count": 81,
   "id": "19c555e7-d167-4261-b9e8-762c348d99fd",
   "metadata": {},
   "outputs": [
    {
     "name": "stdout",
     "output_type": "stream",
     "text": [
      "208\n"
     ]
    },
    {
     "ename": "NameError",
     "evalue": "name 'b' is not defined",
     "output_type": "error",
     "traceback": [
      "\u001b[0;31m---------------------------------------------------------------------------\u001b[0m",
      "\u001b[0;31mNameError\u001b[0m                                 Traceback (most recent call last)",
      "\u001b[0;32m<ipython-input-81-cc3f4a0de11b>\u001b[0m in \u001b[0;36m<module>\u001b[0;34m\u001b[0m\n\u001b[1;32m      9\u001b[0m \u001b[0mprint\u001b[0m\u001b[0;34m(\u001b[0m\u001b[0mtambah\u001b[0m \u001b[0;34m(\u001b[0m\u001b[0;36m10\u001b[0m\u001b[0;34m,\u001b[0m\u001b[0;36m20\u001b[0m\u001b[0;34m)\u001b[0m\u001b[0;34m)\u001b[0m\u001b[0;34m\u001b[0m\u001b[0;34m\u001b[0m\u001b[0m\n\u001b[1;32m     10\u001b[0m \u001b[0;34m\u001b[0m\u001b[0m\n\u001b[0;32m---> 11\u001b[0;31m \u001b[0mprint\u001b[0m\u001b[0;34m(\u001b[0m\u001b[0mb\u001b[0m\u001b[0;34m)\u001b[0m\u001b[0;34m\u001b[0m\u001b[0;34m\u001b[0m\u001b[0m\n\u001b[0m",
      "\u001b[0;31mNameError\u001b[0m: name 'b' is not defined"
     ]
    }
   ],
   "source": [
    "global_c = 8 #milik semua orang, satu dunia\n",
    "\n",
    "def tambah(a,b):\n",
    "    #a dan b adalah variable lokal milik function tambah\n",
    "    a = a * 10 #local variable, milik function tambah saja\n",
    "    b = b * 5\n",
    "    return a+b+global_c #tidak error\n",
    "\n",
    "print(tambah (10,20))\n",
    "\n",
    "print(b)#error"
   ]
  },
  {
   "cell_type": "code",
   "execution_count": 90,
   "id": "d24b2823-79fc-4aca-8430-000b1623cd01",
   "metadata": {},
   "outputs": [
    {
     "name": "stdout",
     "output_type": "stream",
     "text": [
      "num1: 15\n",
      "mul: 5\n",
      "num: 10\n",
      "num2: 8\n"
     ]
    },
    {
     "ename": "NameError",
     "evalue": "name 'multiplier' is not defined",
     "output_type": "error",
     "traceback": [
      "\u001b[0;31m---------------------------------------------------------------------------\u001b[0m",
      "\u001b[0;31mNameError\u001b[0m                                 Traceback (most recent call last)",
      "\u001b[0;32m<ipython-input-90-22bd933d60c4>\u001b[0m in \u001b[0;36m<module>\u001b[0;34m\u001b[0m\n\u001b[1;32m     17\u001b[0m     \u001b[0mprint\u001b[0m\u001b[0;34m(\u001b[0m\u001b[0;34m\"num:\"\u001b[0m\u001b[0;34m,\u001b[0m \u001b[0mnum\u001b[0m\u001b[0;34m)\u001b[0m \u001b[0;31m#global, boleh dipake\u001b[0m\u001b[0;34m\u001b[0m\u001b[0;34m\u001b[0m\u001b[0m\n\u001b[1;32m     18\u001b[0m     \u001b[0mprint\u001b[0m\u001b[0;34m(\u001b[0m\u001b[0;34m\"num2:\"\u001b[0m\u001b[0;34m,\u001b[0m \u001b[0mnum2\u001b[0m\u001b[0;34m)\u001b[0m \u001b[0;31m#milik function kalian, error\u001b[0m\u001b[0;34m\u001b[0m\u001b[0;34m\u001b[0m\u001b[0m\n\u001b[0;32m---> 19\u001b[0;31m \u001b[0mkalian2\u001b[0m\u001b[0;34m(\u001b[0m\u001b[0;34m)\u001b[0m\u001b[0;34m\u001b[0m\u001b[0;34m\u001b[0m\u001b[0m\n\u001b[0m",
      "\u001b[0;32m<ipython-input-90-22bd933d60c4>\u001b[0m in \u001b[0;36mkalian2\u001b[0;34m()\u001b[0m\n\u001b[1;32m     14\u001b[0m \u001b[0;34m\u001b[0m\u001b[0m\n\u001b[1;32m     15\u001b[0m \u001b[0;32mdef\u001b[0m \u001b[0mkalian2\u001b[0m\u001b[0;34m(\u001b[0m\u001b[0;34m)\u001b[0m\u001b[0;34m:\u001b[0m\u001b[0;34m\u001b[0m\u001b[0;34m\u001b[0m\u001b[0m\n\u001b[0;32m---> 16\u001b[0;31m     \u001b[0mprint\u001b[0m\u001b[0;34m(\u001b[0m\u001b[0;34m\"mul:\"\u001b[0m\u001b[0;34m,\u001b[0m \u001b[0mmultiplier\u001b[0m\u001b[0;34m)\u001b[0m \u001b[0;31m#milik function kalian, error\u001b[0m\u001b[0;34m\u001b[0m\u001b[0;34m\u001b[0m\u001b[0m\n\u001b[0m\u001b[1;32m     17\u001b[0m     \u001b[0mprint\u001b[0m\u001b[0;34m(\u001b[0m\u001b[0;34m\"num:\"\u001b[0m\u001b[0;34m,\u001b[0m \u001b[0mnum\u001b[0m\u001b[0;34m)\u001b[0m \u001b[0;31m#global, boleh dipake\u001b[0m\u001b[0;34m\u001b[0m\u001b[0;34m\u001b[0m\u001b[0m\n\u001b[1;32m     18\u001b[0m     \u001b[0mprint\u001b[0m\u001b[0;34m(\u001b[0m\u001b[0;34m\"num2:\"\u001b[0m\u001b[0;34m,\u001b[0m \u001b[0mnum2\u001b[0m\u001b[0;34m)\u001b[0m \u001b[0;31m#milik function kalian, error\u001b[0m\u001b[0;34m\u001b[0m\u001b[0;34m\u001b[0m\u001b[0m\n",
      "\u001b[0;31mNameError\u001b[0m: name 'multiplier' is not defined"
     ]
    }
   ],
   "source": [
    "num = 10\n",
    "\n",
    "def kalian(num1, num2):\n",
    "    if (num1 > 0):\n",
    "        multiplier = 5\n",
    "        num1 = num1 * multiplier\n",
    "        print(\"num1:\", num1)\n",
    "    \n",
    "    print(\"mul:\", multiplier)\n",
    "    print(\"num:\", num)\n",
    "    print(\"num2:\", num2)\n",
    "    \n",
    "kalian(3,8)\n",
    "\n",
    "def kalian2():\n",
    "    print(\"mul:\", multiplier) #milik function kalian, error\n",
    "    print(\"num:\", num) #global, boleh dipake\n",
    "    print(\"num2:\", num2) #milik function kalian, error\n",
    "kalian2()"
   ]
  },
  {
   "cell_type": "code",
   "execution_count": 2,
   "id": "339719fa-39a1-458b-b719-1a2b41857389",
   "metadata": {},
   "outputs": [
    {
     "name": "stdout",
     "output_type": "stream",
     "text": [
      "Andhika\n",
      "25\n",
      "salam kenal, saya  Andhika\n"
     ]
    }
   ],
   "source": [
    "import mod\n",
    "\n",
    "print(mod.name)\n",
    "print(mod.age)\n",
    "mod.salam()"
   ]
  },
  {
   "cell_type": "code",
   "execution_count": 7,
   "id": "2635e50a-fa71-4d00-b91e-cce0ce6d4bd6",
   "metadata": {},
   "outputs": [
    {
     "name": "stdout",
     "output_type": "stream",
     "text": [
      "Andhika\n",
      "25\n",
      "salam kenal, saya  Andhika\n"
     ]
    }
   ],
   "source": [
    "from mod import name, age, salam\n",
    "\n",
    "print(name)\n",
    "print(age)\n",
    "salam()"
   ]
  },
  {
   "cell_type": "code",
   "execution_count": 8,
   "id": "b72f7d89-1922-40da-832b-d4e0f82019ec",
   "metadata": {},
   "outputs": [
    {
     "name": "stdout",
     "output_type": "stream",
     "text": [
      "Andhika\n",
      "25\n",
      "salam kenal, saya  Andhika\n"
     ]
    }
   ],
   "source": [
    "from mod import *\n",
    "\n",
    "print(name)\n",
    "print(age)\n",
    "salam()"
   ]
  },
  {
   "cell_type": "code",
   "execution_count": 9,
   "id": "81de625e-7bed-4c54-bc4f-622df59b15df",
   "metadata": {},
   "outputs": [
    {
     "name": "stdout",
     "output_type": "stream",
     "text": [
      "Andhika 25\n",
      "salam kenal, saya  Andhika\n"
     ]
    }
   ],
   "source": [
    "from mod import name as username, age as userage, salam as usersalam\n",
    "\n",
    "print(username, userage)\n",
    "usersalam()"
   ]
  },
  {
   "cell_type": "code",
   "execution_count": 10,
   "id": "d946c2de-a9a3-44f7-adb6-4e0e42910847",
   "metadata": {},
   "outputs": [
    {
     "data": {
      "text/plain": [
       "['/Users/kanziabikarami',\n",
       " '/Users/kanziabikarami/opt/anaconda3/lib/python38.zip',\n",
       " '/Users/kanziabikarami/opt/anaconda3/lib/python3.8',\n",
       " '/Users/kanziabikarami/opt/anaconda3/lib/python3.8/lib-dynload',\n",
       " '',\n",
       " '/Users/kanziabikarami/opt/anaconda3/lib/python3.8/site-packages',\n",
       " '/Users/kanziabikarami/opt/anaconda3/lib/python3.8/site-packages/aeosa',\n",
       " '/Users/kanziabikarami/opt/anaconda3/lib/python3.8/site-packages/locket-0.2.1-py3.8.egg',\n",
       " '/Users/kanziabikarami/opt/anaconda3/lib/python3.8/site-packages/IPython/extensions',\n",
       " '/Users/kanziabikarami/.ipython']"
      ]
     },
     "execution_count": 10,
     "metadata": {},
     "output_type": "execute_result"
    }
   ],
   "source": [
    "import sys\n",
    "sys.path"
   ]
  },
  {
   "cell_type": "code",
   "execution_count": 11,
   "id": "8414e7fc-2726-47d1-9f2d-26fb5a6a3b79",
   "metadata": {},
   "outputs": [
    {
     "data": {
      "text/plain": [
       "['/Users/kanziabikarami',\n",
       " '/Users/kanziabikarami/opt/anaconda3/lib/python38.zip',\n",
       " '/Users/kanziabikarami/opt/anaconda3/lib/python3.8',\n",
       " '/Users/kanziabikarami/opt/anaconda3/lib/python3.8/lib-dynload',\n",
       " '',\n",
       " '/Users/kanziabikarami/opt/anaconda3/lib/python3.8/site-packages',\n",
       " '/Users/kanziabikarami/opt/anaconda3/lib/python3.8/site-packages/aeosa',\n",
       " '/Users/kanziabikarami/opt/anaconda3/lib/python3.8/site-packages/locket-0.2.1-py3.8.egg',\n",
       " '/Users/kanziabikarami/opt/anaconda3/lib/python3.8/site-packages/IPython/extensions',\n",
       " '/Users/kanziabikarami/.ipython',\n",
       " '/Users/kanziabikarami/Documents']"
      ]
     },
     "execution_count": 11,
     "metadata": {},
     "output_type": "execute_result"
    }
   ],
   "source": [
    "sys.path.append(r'/Users/kanziabikarami/Documents')\n",
    "sys.path"
   ]
  },
  {
   "cell_type": "code",
   "execution_count": 12,
   "id": "414add44-63b5-4c4b-afbd-3d8f92a95791",
   "metadata": {},
   "outputs": [
    {
     "data": {
      "text/plain": [
       "['In',\n",
       " 'Out',\n",
       " 'Salam',\n",
       " '_',\n",
       " '_10',\n",
       " '_11',\n",
       " '__',\n",
       " '___',\n",
       " '__builtin__',\n",
       " '__builtins__',\n",
       " '__doc__',\n",
       " '__loader__',\n",
       " '__name__',\n",
       " '__package__',\n",
       " '__spec__',\n",
       " '_dh',\n",
       " '_i',\n",
       " '_i1',\n",
       " '_i10',\n",
       " '_i11',\n",
       " '_i12',\n",
       " '_i2',\n",
       " '_i3',\n",
       " '_i4',\n",
       " '_i5',\n",
       " '_i6',\n",
       " '_i7',\n",
       " '_i8',\n",
       " '_i9',\n",
       " '_ih',\n",
       " '_ii',\n",
       " '_iii',\n",
       " '_oh',\n",
       " 'age',\n",
       " 'exit',\n",
       " 'get_ipython',\n",
       " 'mod',\n",
       " 'name',\n",
       " 'quit',\n",
       " 'salam',\n",
       " 'sys',\n",
       " 'userage',\n",
       " 'username',\n",
       " 'usersalam']"
      ]
     },
     "execution_count": 12,
     "metadata": {},
     "output_type": "execute_result"
    }
   ],
   "source": [
    "dir()"
   ]
  },
  {
   "cell_type": "code",
   "execution_count": 14,
   "id": "f442a432-8b76-4313-993b-a1c14c921efb",
   "metadata": {},
   "outputs": [
    {
     "ename": "ModuleNotFoundError",
     "evalue": "No module named 'pkg'",
     "output_type": "error",
     "traceback": [
      "\u001b[0;31m---------------------------------------------------------------------------\u001b[0m",
      "\u001b[0;31mModuleNotFoundError\u001b[0m                       Traceback (most recent call last)",
      "\u001b[0;32m<ipython-input-14-bd22d56473ee>\u001b[0m in \u001b[0;36m<module>\u001b[0;34m\u001b[0m\n\u001b[0;32m----> 1\u001b[0;31m \u001b[0;32mimport\u001b[0m \u001b[0mpkg\u001b[0m\u001b[0;34m\u001b[0m\u001b[0;34m\u001b[0m\u001b[0m\n\u001b[0m",
      "\u001b[0;31mModuleNotFoundError\u001b[0m: No module named 'pkg'"
     ]
    }
   ],
   "source": [
    "import pkg"
   ]
  },
  {
   "cell_type": "code",
   "execution_count": null,
   "id": "26400b7c-4647-4020-b764-6792b38fe3dc",
   "metadata": {},
   "outputs": [],
   "source": []
  }
 ],
 "metadata": {
  "kernelspec": {
   "display_name": "Python 3",
   "language": "python",
   "name": "python3"
  },
  "language_info": {
   "codemirror_mode": {
    "name": "ipython",
    "version": 3
   },
   "file_extension": ".py",
   "mimetype": "text/x-python",
   "name": "python",
   "nbconvert_exporter": "python",
   "pygments_lexer": "ipython3",
   "version": "3.8.8"
  }
 },
 "nbformat": 4,
 "nbformat_minor": 5
}
